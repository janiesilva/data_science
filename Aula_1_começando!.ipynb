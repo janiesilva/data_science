{
  "nbformat": 4,
  "nbformat_minor": 0,
  "metadata": {
    "colab": {
      "name": "Aula 1 - começando!",
      "provenance": [],
      "authorship_tag": "ABX9TyMSf8Gtrd9AcrylyokJzJ9S",
      "include_colab_link": true
    },
    "kernelspec": {
      "name": "python3",
      "display_name": "Python 3"
    }
  },
  "cells": [
    {
      "cell_type": "markdown",
      "metadata": {
        "id": "view-in-github",
        "colab_type": "text"
      },
      "source": [
        "<a href=\"https://colab.research.google.com/github/janiesilva/data_science/blob/master/Aula_1_come%C3%A7ando!.ipynb\" target=\"_parent\"><img src=\"https://colab.research.google.com/assets/colab-badge.svg\" alt=\"Open In Colab\"/></a>"
      ]
    },
    {
      "cell_type": "code",
      "metadata": {
        "id": "d7VR2NlEiuc0",
        "colab_type": "code",
        "colab": {
          "base_uri": "https://localhost:8080/",
          "height": 34
        },
        "outputId": "bdc12964-6cae-463e-d6df-c89f1f9bc0d4"
      },
      "source": [
        "#Fórmula para cálculo de lucro\n",
        "\n",
        "receita = 15000.0\n",
        "custo_fixo = 5000\n",
        "custo_variavel = 3000\n",
        "\n",
        "lucro = receita - (custo_fixo + custo_variavel)\n",
        "print(lucro)"
      ],
      "execution_count": null,
      "outputs": [
        {
          "output_type": "stream",
          "text": [
            "7000.0\n"
          ],
          "name": "stdout"
        }
      ]
    }
  ]
}